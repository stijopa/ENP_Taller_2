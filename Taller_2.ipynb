{
 "cells": [
  {
   "cell_type": "code",
   "execution_count": null,
   "metadata": {},
   "outputs": [],
   "source": [
    "# Taller"
   ]
  },
  {
   "cell_type": "markdown",
   "metadata": {},
   "source": [
    "# 1\n",
    "Del conjunto de datos de Temperatura, realice la selección de una provincia y realice la estimación de la densidad. Para esta estimación considere:"
   ]
  },
  {
   "cell_type": "markdown",
   "metadata": {},
   "source": [
    "### a. Tabla de frecuencias"
   ]
  },
  {
   "cell_type": "code",
   "execution_count": 3,
   "metadata": {},
   "outputs": [],
   "source": [
    "import pandas as pd\n",
    "import numpy as np\n",
    "import matplotlib.pyplot as plt\n",
    "from scipy.integrate import simps"
   ]
  },
  {
   "cell_type": "code",
   "execution_count": 4,
   "metadata": {},
   "outputs": [],
   "source": [
    "df = pd.read_excel(\"data\\\\Temperaturas.xlsx\", sheet_name = 'Hoja3')"
   ]
  },
  {
   "cell_type": "code",
   "execution_count": 5,
   "metadata": {},
   "outputs": [
    {
     "data": {
      "text/html": [
       "<div>\n",
       "<style scoped>\n",
       "    .dataframe tbody tr th:only-of-type {\n",
       "        vertical-align: middle;\n",
       "    }\n",
       "\n",
       "    .dataframe tbody tr th {\n",
       "        vertical-align: top;\n",
       "    }\n",
       "\n",
       "    .dataframe thead th {\n",
       "        text-align: right;\n",
       "    }\n",
       "</style>\n",
       "<table border=\"1\" class=\"dataframe\">\n",
       "  <thead>\n",
       "    <tr style=\"text-align: right;\">\n",
       "      <th></th>\n",
       "      <th>ano1</th>\n",
       "      <th>mes2</th>\n",
       "      <th>dia3</th>\n",
       "      <th>fecha4</th>\n",
       "      <th>alava5</th>\n",
       "      <th>albacete6</th>\n",
       "      <th>alicante7</th>\n",
       "      <th>almeria8</th>\n",
       "      <th>avila9</th>\n",
       "      <th>badajoz10</th>\n",
       "      <th>...</th>\n",
       "      <th>sevilla47</th>\n",
       "      <th>soria48</th>\n",
       "      <th>tarragona49</th>\n",
       "      <th>teruel50</th>\n",
       "      <th>toledo51</th>\n",
       "      <th>valladolid52</th>\n",
       "      <th>valencia53</th>\n",
       "      <th>vizcaya54</th>\n",
       "      <th>zamora55</th>\n",
       "      <th>zaragoza56</th>\n",
       "    </tr>\n",
       "  </thead>\n",
       "  <tbody>\n",
       "    <tr>\n",
       "      <th>0</th>\n",
       "      <td>1990</td>\n",
       "      <td>1</td>\n",
       "      <td>1</td>\n",
       "      <td>1990-01-01</td>\n",
       "      <td>25</td>\n",
       "      <td>22</td>\n",
       "      <td>14</td>\n",
       "      <td>15</td>\n",
       "      <td>29</td>\n",
       "      <td>19</td>\n",
       "      <td>...</td>\n",
       "      <td>18</td>\n",
       "      <td>29</td>\n",
       "      <td>20</td>\n",
       "      <td>23</td>\n",
       "      <td>25</td>\n",
       "      <td>27</td>\n",
       "      <td>18</td>\n",
       "      <td>20</td>\n",
       "      <td>25</td>\n",
       "      <td>26</td>\n",
       "    </tr>\n",
       "    <tr>\n",
       "      <th>1</th>\n",
       "      <td>1990</td>\n",
       "      <td>1</td>\n",
       "      <td>2</td>\n",
       "      <td>1990-01-02</td>\n",
       "      <td>26</td>\n",
       "      <td>25</td>\n",
       "      <td>14</td>\n",
       "      <td>14</td>\n",
       "      <td>33</td>\n",
       "      <td>21</td>\n",
       "      <td>...</td>\n",
       "      <td>20</td>\n",
       "      <td>30</td>\n",
       "      <td>16</td>\n",
       "      <td>23</td>\n",
       "      <td>27</td>\n",
       "      <td>29</td>\n",
       "      <td>17</td>\n",
       "      <td>18</td>\n",
       "      <td>31</td>\n",
       "      <td>22</td>\n",
       "    </tr>\n",
       "  </tbody>\n",
       "</table>\n",
       "<p>2 rows × 56 columns</p>\n",
       "</div>"
      ],
      "text/plain": [
       "   ano1  mes2  dia3     fecha4  alava5  albacete6  alicante7  almeria8  \\\n",
       "0  1990     1     1 1990-01-01      25         22         14        15   \n",
       "1  1990     1     2 1990-01-02      26         25         14        14   \n",
       "\n",
       "   avila9  badajoz10  ...  sevilla47  soria48  tarragona49  teruel50  \\\n",
       "0      29         19  ...         18       29           20        23   \n",
       "1      33         21  ...         20       30           16        23   \n",
       "\n",
       "   toledo51  valladolid52  valencia53  vizcaya54  zamora55  zaragoza56  \n",
       "0        25            27          18         20        25          26  \n",
       "1        27            29          17         18        31          22  \n",
       "\n",
       "[2 rows x 56 columns]"
      ]
     },
     "execution_count": 5,
     "metadata": {},
     "output_type": "execute_result"
    }
   ],
   "source": [
    "df.head(2)"
   ]
  },
  {
   "cell_type": "code",
   "execution_count": 9,
   "metadata": {},
   "outputs": [],
   "source": [
    "df_ciudad = df[['alava5']]"
   ]
  },
  {
   "cell_type": "code",
   "execution_count": 14,
   "metadata": {},
   "outputs": [
    {
     "data": {
      "image/png": "[encoded data removed]",
      "text/plain": [
       "<Figure size 1000x600 with 1 Axes>"
      ]
     },
     "metadata": {},
     "output_type": "display_data"
    }
   ],
   "source": [
    "# Suponiendo que 'df' es tu DataFrame y 'columna_de_interes' es la columna de interés\n",
    "tabla_frecuencias = df['alava5'].value_counts()\n",
    "\n",
    "# Convertir la serie de frecuencias en un DataFrame para facilitar el trazado\n",
    "tabla_frecuencias_df = tabla_frecuencias.reset_index()\n",
    "tabla_frecuencias_df.columns = ['Valor', 'Frecuencia']\n",
    "\n",
    "# Trazar el gráfico de barras\n",
    "plt.figure(figsize=(10, 6))  # Tamaño de la figura\n",
    "plt.bar(tabla_frecuencias_df['Valor'], tabla_frecuencias_df['Frecuencia'])\n",
    "plt.xlabel('Valor')  # Etiqueta del eje x\n",
    "plt.ylabel('Frecuencia')  # Etiqueta del eje y\n",
    "plt.title('Tabla de Frecuencias')  # Título del gráfico\n",
    "plt.xticks(rotation=45)  # Rotar las etiquetas del eje x si es necesario\n",
    "plt.grid(axis='y')  # Mostrar rejilla solo en el eje y\n",
    "plt.show()"
   ]
  }
 ],
 "metadata": {
  "kernelspec": {
   "display_name": "Python 3",
   "language": "python",
   "name": "python3"
  },
  "language_info": {
   "codemirror_mode": {
    "name": "ipython",
    "version": 3
   },
   "file_extension": ".py",
   "mimetype": "text/x-python",
   "name": "python",
   "nbconvert_exporter": "python",
   "pygments_lexer": "ipython3",
   "version": "3.11.2"
  }
 },
 "nbformat": 4,
 "nbformat_minor": 2
}
